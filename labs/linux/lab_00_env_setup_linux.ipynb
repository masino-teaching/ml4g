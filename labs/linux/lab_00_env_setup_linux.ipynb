{
 "cells": [
  {
   "cell_type": "markdown",
   "metadata": {
    "id": "fn9KG5L3z1bx"
   },
   "source": [
    "<div class='heading'>\n",
    "    <div style='float:left;'><h1>CPSC 8810: Machine Learning for Graphs</h1></div>\n",
    "     <img style=\"float: right; padding-right: 10px\" width=\"100\" src=\"https://raw.githubusercontent.com/bsethwalker/clemson-cs4300/main/images/clemson_paw.png\"> </div>\n",
    "     </div>\n",
    "\n",
    "**Clemson University**<br>\n",
    "**Instructor(s):** Aaron Masino <br>\n",
    "\n",
    "## Lab 0: Computing Environment Setup"
   ]
  },
  {
   "cell_type": "markdown",
   "metadata": {
    "id": "3C7GQeqL11Ev"
   },
   "source": [
    "# Selecting the correct conda environment\n",
    "The Python kernel selection menu is in the top right corner of this notebook. Make the selection is set to _cpsc-4300_"
   ]
  },
  {
   "cell_type": "markdown",
   "metadata": {
    "id": "uuUCSKCNz0P-"
   },
   "source": [
    "Below are some examples of using text and code cells in Jupyter notebooks. Please explore these."
   ]
  },
  {
   "cell_type": "markdown",
   "metadata": {
    "id": "34YI0x_J-i7u"
   },
   "source": [
    "The Jupyter Notebook is a web application that allows you to create interactive documents that contain live code, equations, visualizations and explanatory text.\n",
    "\n",
    "<img src=\"https://raw.githubusercontent.com/bsethwalker/clemson-cs4300/main/images/jupyterdemo.png\"> </div>\n",
    "\n",
    "When Jupyter app loads, you see a dashboard displaying files in the Jupyter home directory (you can reset this)\n",
    "\n",
    "<img src=\"https://raw.githubusercontent.com/bsethwalker/clemson-cs4300/main/images/jupyterhome.png\"> </div>\n",
    "\n",
    "Each notebook consists of blocks of cells. Each cell can display rich text elements (Markdown) or code. Code is executed by a \"computational engine\" called the **kernel** . The output of the code is displayed directly below.\n",
    "\n",
    "<img src=\"https://raw.githubusercontent.com/bsethwalker/clemson-cs4300/main/images/jupyter.png\"> </div>\n",
    "\n",
    "Each cell can be executed independently, but once a block of code is executed, it lives in the memory of the kernel.\n",
    "\n",
    "<img src=\"https://raw.githubusercontent.com/bsethwalker/clemson-cs4300/main/images/cells.png\"> </div>"
   ]
  },
  {
   "cell_type": "markdown",
   "metadata": {
    "id": "g4yKkXZW-8j1"
   },
   "source": [
    "Notebooks are composed of many \"cells\", which can contain text (like this one), or code (like the one below). Double click on the cell below, and evaluate it by clicking the \"play\" button above, for by hitting shift + enter"
   ]
  },
  {
   "cell_type": "code",
   "execution_count": null,
   "metadata": {
    "id": "PlxU5Ted-cYd",
    "tags": []
   },
   "outputs": [],
   "source": [
    "x = [10, 20, 30, 40, 50]\n",
    "for item in x:\n",
    "    print(\"Item is {}\".format(item))"
   ]
  },
  {
   "cell_type": "markdown",
   "metadata": {
    "id": "A5Idbns2_eJu"
   },
   "source": [
    "This is how you can see the version in the jupyter interface."
   ]
  },
  {
   "cell_type": "code",
   "execution_count": null,
   "metadata": {
    "id": "Hzy8QVeo-_Hs",
    "tags": []
   },
   "outputs": [],
   "source": [
    "import sys\n",
    "print(sys.version)"
   ]
  },
  {
   "cell_type": "markdown",
   "metadata": {
    "id": "mGT4wvQ3_16u"
   },
   "source": [
    "# That's it!\n",
    "You're ready to start using Google Colab for the course. Below are some examples of using text and code cells in Jupyter notebooks. Please explore these. Next meeting, we'll review Python and some of the numerical and visualization libraries we'll use in this course!"
   ]
  },
  {
   "cell_type": "code",
   "execution_count": null,
   "metadata": {
    "id": "XLWeahQA_2sx"
   },
   "outputs": [],
   "source": []
  }
 ],
 "metadata": {
  "colab": {
   "provenance": []
  },
  "kernelspec": {
   "display_name": "cpsc-4300",
   "language": "python",
   "name": "cpsc-4300"
  },
  "language_info": {
   "codemirror_mode": {
    "name": "ipython",
    "version": 3
   },
   "file_extension": ".py",
   "mimetype": "text/x-python",
   "name": "python",
   "nbconvert_exporter": "python",
   "pygments_lexer": "ipython3",
   "version": "3.12.4"
  }
 },
 "nbformat": 4,
 "nbformat_minor": 4
}
