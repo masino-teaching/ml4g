{
  "cells": [
    {
      "cell_type": "markdown",
      "metadata": {
        "id": "fn9KG5L3z1bx"
      },
      "source": [
        "<div class='heading'>\n",
        "    <div style='float:left;'><h1>CPSC 8810: Machine Learning for Graphs</h1></div>\n",
        "     <img style=\"float: right; padding-right: 10px\" width=\"100\" src=\"https://raw.githubusercontent.com/bsethwalker/clemson-cs4300/main/images/clemson_paw.png\"> </div>\n",
        "     </div>\n",
        "\n",
        "**Clemson University**<br>\n",
        "**Instructor(s):** Aaron Masino <br>\n",
        "\n",
        "## Lab 0: Colab Computing Environment Setup"
      ]
    },
    {
      "cell_type": "markdown",
      "metadata": {
        "id": "3C7GQeqL11Ev"
      },
      "source": [
        "# Connecting to your Google Drive\n",
        "For some labs and homeworks you will need to access resources stored in your Google drive from Python code. To do so, the Jupyter notebook must \"mount\" the Google Drive. The code below does that. Let's make sure it works.\n",
        "\n",
        "To test the code either click the \"play\" icon on the left of the code cell OR click inside the code cell and enter \"Shift + Enter\" on your keyboard.\n",
        "\n",
        "**You will need to provide access to Google Drive in the pop up dialog**"
      ]
    },
    {
      "cell_type": "code",
      "execution_count": 2,
      "metadata": {
        "colab": {
          "base_uri": "https://localhost:8080/"
        },
        "id": "uOieGz1JyCRg",
        "outputId": "beaaa45f-d3f8-432a-e263-56daaf18516b"
      },
      "outputs": [
        {
          "name": "stdout",
          "output_type": "stream",
          "text": [
            "Mounted at /content/drive\n"
          ]
        }
      ],
      "source": [
        "# mount the google drive - this is necessary to access supporting resources\n",
        "from google.colab import drive\n",
        "drive.mount(\"/content/drive\")"
      ]
    },
    {
      "cell_type": "markdown",
      "metadata": {
        "id": "uuUCSKCNz0P-"
      },
      "source": [
        "Below are some examples of using text and code cells in Jupyter notebooks. Please explore these."
      ]
    },
    {
      "cell_type": "markdown",
      "metadata": {
        "id": "34YI0x_J-i7u"
      },
      "source": [
        "The Jupyter Notebook is a web application that allows you to create interactive documents that contain live code, equations, visualizations and explanatory text.\n",
        "\n",
        "<img src=\"https://raw.githubusercontent.com/bsethwalker/clemson-cs4300/main/images/jupyterdemo.png\"> </div>\n",
        "\n",
        "When Jupyter app loads, you see a dashboard displaying files in the Jupyter home directory (you can reset this)\n",
        "\n",
        "<img src=\"https://raw.githubusercontent.com/bsethwalker/clemson-cs4300/main/images/jupyterhome.png\"> </div>\n",
        "\n",
        "Each notebook consists of blocks of cells. Each cell can display rich text elements (Markdown) or code. Code is executed by a \"computational engine\" called the **kernel** . The output of the code is displayed directly below.\n",
        "\n",
        "<img src=\"https://raw.githubusercontent.com/bsethwalker/clemson-cs4300/main/images/jupyter.png\"> </div>\n",
        "\n",
        "Each cell can be executed independently, but once a block of code is executed, it lives in the memory of the kernel.\n",
        "\n",
        "<img src=\"https://raw.githubusercontent.com/bsethwalker/clemson-cs4300/main/images/cells.png\"> </div>"
      ]
    },
    {
      "cell_type": "markdown",
      "metadata": {
        "id": "g4yKkXZW-8j1"
      },
      "source": [
        "Notebooks are composed of many \"cells\", which can contain text (like this one), or code (like the one below). Double click on the cell below, and evaluate it by clicking the \"play\" button above, for by hitting shift + enter"
      ]
    },
    {
      "cell_type": "code",
      "execution_count": null,
      "metadata": {
        "id": "PlxU5Ted-cYd"
      },
      "outputs": [],
      "source": [
        "x = [10, 20, 30, 40, 50]\n",
        "for item in x:\n",
        "    print(\"Item is {}\".format(item))"
      ]
    },
    {
      "cell_type": "markdown",
      "metadata": {
        "id": "A5Idbns2_eJu"
      },
      "source": [
        "This is how you can see the version in the jupyter interface."
      ]
    },
    {
      "cell_type": "code",
      "execution_count": null,
      "metadata": {
        "id": "Hzy8QVeo-_Hs"
      },
      "outputs": [],
      "source": [
        "import sys\n",
        "print(sys.version)"
      ]
    },
    {
      "cell_type": "markdown",
      "metadata": {
        "id": "mGT4wvQ3_16u"
      },
      "source": [
        "# That's it!\n",
        "You're ready to start using Google Colab for the course. Below are some examples of using text and code cells in Jupyter notebooks. Please explore these. Next meeting, we'll review Python and some of the numerical and visualization libraries we'll use in this course!"
      ]
    },
    {
      "cell_type": "code",
      "execution_count": null,
      "metadata": {
        "id": "XLWeahQA_2sx"
      },
      "outputs": [],
      "source": []
    }
  ],
  "metadata": {
    "colab": {
      "provenance": []
    },
    "kernelspec": {
      "display_name": "Python 3",
      "name": "python3"
    },
    "language_info": {
      "name": "python"
    }
  },
  "nbformat": 4,
  "nbformat_minor": 0
}
