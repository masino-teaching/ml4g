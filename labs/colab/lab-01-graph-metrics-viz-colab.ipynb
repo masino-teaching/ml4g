{
  "cells": [
    {
      "cell_type": "markdown",
      "id": "cell-intro",
      "metadata": {
        "id": "cell-intro"
      },
      "source": [
        "<div class='heading'>\n",
        "    <div style='float:left;'><h1>CPSC 8810: Machine Learning for Graphs</h1></div>\n",
        "     <img style=\"float: right; padding-right: 10px\" width=\"100\" src=\"https://raw.githubusercontent.com/bsethwalker/clemson-cs4300/main/images/clemson_paw.png\"> </div>\n",
        "     </div>\n",
        "\n",
        "**Clemson University**<br>\n",
        "**Instructor(s):** Aaron Masino <br>\n",
        "\n",
        "## Lab 1: Graph Metrics and Visualization\n",
        "\n",
        "## Learning Objectives\n",
        "By the end of this lab, you will be able to:\n",
        "1. Create, read, and write graphs using adjacency lists and matrices\n",
        "2. Visualize networks using pygraphviz\n",
        "3. Add and remove edges from graphs\n",
        "4. Work with node attributes\n",
        "5. Calculate important graph and node metrics\n",
        "6. Identify node groups in networks\n",
        "\n",
        "## Key Python Libraries\n",
        "- `networkx`: Graph creation and analysis\n",
        "- `pygraphviz`: Graph visualization\n",
        "- `matplotlib`: Plotting\n",
        "- `numpy`: Numerical operations"
      ]
    },
    {
      "cell_type": "code",
      "execution_count": null,
      "id": "cell-imports",
      "metadata": {
        "id": "cell-imports"
      },
      "outputs": [],
      "source": [
        "import networkx as nx\n",
        "import numpy as np\n",
        "import pandas as pd\n",
        "import matplotlib.pyplot as plt\n",
        "import seaborn as sns\n",
        "from IPython.display import Image\n",
        "import os\n",
        "import warnings\n",
        "warnings.filterwarnings('ignore')\n",
        "\n",
        "# Set style for better plots\n",
        "plt.style.use('default')\n",
        "sns.set_palette(\"husl\")\n",
        "\n",
        "print(\"Libraries imported successfully!\")\n",
        "print(f\"NetworkX version: {nx.__version__}\")\n",
        "\n",
        "!apt install libgraphviz-dev\n",
        "!pip install pygraphviz"
      ]
    },
    {
      "cell_type": "code",
      "execution_count": null,
      "id": "VEmL6WBAjfcv",
      "metadata": {
        "id": "VEmL6WBAjfcv"
      },
      "outputs": [],
      "source": [
        "# mount the google drive - this is necessary to access supporting resources\n",
        "from google.colab import drive\n",
        "drive.mount(\"/content/drive\")"
      ]
    },
    {
      "cell_type": "code",
      "execution_count": null,
      "id": "647a1ab5",
      "metadata": {
        "id": "647a1ab5"
      },
      "outputs": [],
      "source": [
        "# Set output directory for images and files\n",
        "OUTPUT_DIR = \"/content/drive/MyDrive/Colab Notebooks/ml4g/labs/output/lab_01\"\n",
        "if not os.path.exists(OUTPUT_DIR):\n",
        "    os.makedirs(OUTPUT_DIR)"
      ]
    },
    {
      "cell_type": "markdown",
      "id": "cell-section1",
      "metadata": {
        "id": "cell-section1"
      },
      "source": [
        "---\n",
        "## 1. Creating Graphs from Different Representations\n",
        "\n",
        "**Background:** Graphs can be represented in multiple ways - adjacency lists store neighbors for each node, while adjacency matrices use a 2D array where entry (i,j) indicates edge presence. NetworkX provides flexible methods to work with both representations.\n",
        "\n",
        "**Key Methods:**\n",
        "- [`nx.Graph()`](https://networkx.org/documentation/stable/reference/classes/graph.html#networkx.Graph) - Create undirected graph\n",
        "- [`nx.DiGraph()`](https://networkx.org/documentation/stable/reference/classes/digraph.html#networkx.DiGraph) - Create directed graph  \n",
        "- [`nx.from_dict_of_lists()`](https://networkx.org/documentation/stable/reference/generated/networkx.convert.from_dict_of_lists.html) - Create from adjacency list\n",
        "- [`nx.from_numpy_array()`](https://networkx.org/documentation/stable/reference/generated/networkx.convert_matrix.from_numpy_array.html) - Create from adjacency matrix"
      ]
    },
    {
      "cell_type": "markdown",
      "id": "cell-section1a",
      "metadata": {
        "id": "cell-section1a"
      },
      "source": [
        "### 1.1 Creating Graphs from Adjacency Lists, Accessing Graph Properties, Reading & Writing Graphs"
      ]
    },
    {
      "cell_type": "code",
      "execution_count": null,
      "id": "cell-adj-list-example",
      "metadata": {
        "id": "cell-adj-list-example"
      },
      "outputs": [],
      "source": [
        "# Example: Create undirected graph from adjacency list\n",
        "# Adjacency list representation: {node: [list_of_neighbors]}\n",
        "adj_list_undirected = {\n",
        "    'A': ['B', 'C'],\n",
        "    'B': ['A', 'D', 'E'],\n",
        "    'C': ['A', 'F'],\n",
        "    'D': ['B'],\n",
        "    'E': ['B', 'F'],\n",
        "    'F': ['C', 'E']\n",
        "}\n",
        "\n",
        "G_undirected = nx.from_dict_of_lists(adj_list_undirected)\n",
        "print(\"Undirected Graph:\")\n",
        "print(f\"Nodes: {list(G_undirected.nodes())}\")\n",
        "print(f\"Edges: {list(G_undirected.edges())}\")\n",
        "print(f\"Number of nodes: {G_undirected.number_of_nodes()}\")\n",
        "print(f\"Number of edges: {G_undirected.number_of_edges()}\")\n",
        "\n",
        "# save undirected graph to file\n",
        "nx.write_adjlist(G_undirected, os.path.join(OUTPUT_DIR, \"undirected_graph.adjlist\"))\n",
        "\n",
        "# read the undirected graph from file\n",
        "G_undirected_from_file = nx.read_adjlist(os.path.join(OUTPUT_DIR, \"undirected_graph.adjlist\"))\n",
        "print(\"Undirected Graph from file:\")\n",
        "print(f\"Nodes: {list(G_undirected_from_file.nodes())}\")\n",
        "print(f\"Edges: {list(G_undirected_from_file.edges())}\")"
      ]
    },
    {
      "cell_type": "code",
      "execution_count": null,
      "id": "cell-adj-list-directed",
      "metadata": {
        "id": "cell-adj-list-directed"
      },
      "outputs": [],
      "source": [
        "# Example: Create directed graph from adjacency list\n",
        "adj_list_directed = {\n",
        "    'A': ['B', 'C'],\n",
        "    'B': ['D'],\n",
        "    'C': ['D', 'F'],\n",
        "    'D': ['E'],\n",
        "    'E': ['F'],\n",
        "    'F': []\n",
        "}\n",
        "\n",
        "# NOTE: Use `create_using=nx.DiGraph()` to create a directed graph\n",
        "G_directed = nx.from_dict_of_lists(adj_list_directed, create_using=nx.DiGraph())\n",
        "print(\"\\nDirected Graph:\")\n",
        "print(f\"Nodes: {list(G_directed.nodes())}\")\n",
        "print(f\"Edges: {list(G_directed.edges())}\")"
      ]
    },
    {
      "cell_type": "markdown",
      "id": "cell-exercise1-intro",
      "metadata": {
        "id": "cell-exercise1-intro"
      },
      "source": [
        "**Exercise 1.1:** Create an undirected graph from the following adjacency list. Fill in the missing code:"
      ]
    },
    {
      "cell_type": "code",
      "execution_count": null,
      "id": "cell-exercise1",
      "metadata": {
        "id": "cell-exercise1"
      },
      "outputs": [],
      "source": [
        "# Exercise 1.1: Create graph from adjacency list\n",
        "exercise_adj_list = {\n",
        "    1: [2, 3, 4],\n",
        "    2: [1, 5],\n",
        "    3: [1, 4, 5],\n",
        "    4: [1, 3],\n",
        "    5: [2, 3]\n",
        "}\n",
        "\n",
        "# Fill in the code to create the graph\n",
        "G_exercise1 = ___  # Your code here\n",
        "\n",
        "print(f\"Exercise 1.1 - Nodes: {list(G_exercise1.nodes())}\")\n",
        "print(f\"Exercise 1.1 - Edges: {list(G_exercise1.edges())}\")"
      ]
    },
    {
      "cell_type": "code",
      "execution_count": null,
      "id": "cell-exercise1-validation",
      "metadata": {
        "id": "cell-exercise1-validation"
      },
      "outputs": [],
      "source": [
        "# Validation for Exercise 1.1\n",
        "expected_nodes = set([k for k in exercise_adj_list.keys()])\n",
        "expected_edges = sum([len(v) for v in exercise_adj_list.values()])/2\n",
        "\n",
        "if set(G_exercise1.nodes()) == expected_nodes and G_exercise1.number_of_edges() == expected_edges:\n",
        "    print(\"Exercise 1.1 correct!\")\n",
        "else:\n",
        "    print(\"Exercise 1.1 incorrect. Check your adjacency list conversion.\")"
      ]
    },
    {
      "cell_type": "markdown",
      "id": "cell-section1b",
      "metadata": {
        "id": "cell-section1b"
      },
      "source": [
        "### 1.2 Creating Graphs from Adjacency Matrices"
      ]
    },
    {
      "cell_type": "code",
      "execution_count": null,
      "id": "cell-adj-matrix-undirected",
      "metadata": {
        "id": "cell-adj-matrix-undirected"
      },
      "outputs": [],
      "source": [
        "# Example: Create undirected graph from adjacency matrix\n",
        "# Adjacency matrix: symmetric for undirected graphs\n",
        "adj_matrix_undirected = np.array([\n",
        "    [0, 1, 1, 0],\n",
        "    [1, 0, 0, 1],\n",
        "    [1, 0, 0, 1],\n",
        "    [0, 1, 1, 0]\n",
        "])\n",
        "\n",
        "print(\"Adjacency Matrix (Undirected):\")\n",
        "print(adj_matrix_undirected)\n",
        "\n",
        "G_matrix_undirected = nx.from_numpy_array(adj_matrix_undirected)\n",
        "print(f\"\\nGraph from matrix - Nodes: {list(G_matrix_undirected.nodes())}\")\n",
        "print(f\"Graph from matrix - Edges: {list(G_matrix_undirected.edges())}\")\n",
        "\n",
        "# NOTE: we don't typically store graphs in matrix form in NetworkX. If needed, save the numpy array separately.\n",
        "# To save a numpy array, you can use:\n",
        "np.save(os.path.join(OUTPUT_DIR, \"adjacency_matrix_undirected.npy\"), adj_matrix_undirected)\n",
        "\n",
        "# To read the numpy array back\n",
        "adj_matrix_undirected_from_file = np.load(os.path.join(OUTPUT_DIR, \"adjacency_matrix_undirected.npy\"))\n",
        "# and recreate the graph as above\n",
        "G_matrix_undirected_from_file = nx.from_numpy_array(adj_matrix_undirected_from_file)\n",
        "print(\"Graph from matrix read from file:\")\n",
        "print(f\"Nodes: {list(G_matrix_undirected_from_file.nodes())}\")\n",
        "print(f\"Edges: {list(G_matrix_undirected_from_file.edges())}\")"
      ]
    },
    {
      "cell_type": "code",
      "execution_count": null,
      "id": "cell-adj-matrix-directed",
      "metadata": {
        "id": "cell-adj-matrix-directed"
      },
      "outputs": [],
      "source": [
        "# Example: Create directed graph from adjacency matrix\n",
        "adj_matrix_directed = np.array([\n",
        "    [0, 1, 0, 0],\n",
        "    [0, 0, 1, 0],\n",
        "    [0, 0, 0, 1],\n",
        "    [1, 0, 0, 0]\n",
        "])\n",
        "\n",
        "print(\"Adjacency Matrix (Directed):\")\n",
        "print(adj_matrix_directed)\n",
        "\n",
        "# NOTE: Use `create_using=nx.DiGraph()` to create a directed graph\n",
        "G_matrix_directed = nx.from_numpy_array(adj_matrix_directed, create_using=nx.DiGraph())\n",
        "print(f\"\\nDirected graph - Edges: {list(G_matrix_directed.edges())}\")"
      ]
    },
    {
      "cell_type": "markdown",
      "id": "cell-exercise2-intro",
      "metadata": {
        "id": "cell-exercise2-intro"
      },
      "source": [
        "**Exercise 1.2:** Create a directed graph from the following adjacency matrix:"
      ]
    },
    {
      "cell_type": "code",
      "execution_count": null,
      "id": "cell-exercise2",
      "metadata": {
        "id": "cell-exercise2"
      },
      "outputs": [],
      "source": [
        "# Exercise 1.2: Create directed graph from adjacency matrix\n",
        "exercise_matrix = np.array([\n",
        "    [0, 1, 1, 0, 0],\n",
        "    [0, 0, 0, 1, 0],\n",
        "    [0, 1, 0, 1, 1],\n",
        "    [0, 0, 0, 0, 1],\n",
        "    [1, 0, 0, 0, 0]\n",
        "])\n",
        "\n",
        "# Fill in the code\n",
        "G_exercise2 = ___  # Your code here\n",
        "\n",
        "print(f\"Exercise 1.2 - Number of edges: {G_exercise2.number_of_edges()}\")\n",
        "print(f\"Exercise 1.2 - Edges: {list(G_exercise2.edges())}\")"
      ]
    },
    {
      "cell_type": "code",
      "execution_count": null,
      "id": "cell-exercise2-validation",
      "metadata": {
        "id": "cell-exercise2-validation"
      },
      "outputs": [],
      "source": [
        "# Validation for Exercise 1.2\n",
        "if G_exercise2.number_of_edges() == exercise_matrix.sum() and nx.is_directed(G_exercise2):\n",
        "    print(\"Exercise 1.2 correct!\")\n",
        "else:\n",
        "    print(\"Exercise 1.2 incorrect. Make sure to create a directed graph.\")"
      ]
    },
    {
      "cell_type": "markdown",
      "id": "cell-section2",
      "metadata": {
        "id": "cell-section2"
      },
      "source": [
        "---\n",
        "## 2. Network Visualization with PyGraphviz\n",
        "\n",
        "**Background:** PyGraphviz provides advanced graph visualization with professional layouts and styling options. It's particularly useful for creating publication-quality network diagrams.\n",
        "\n",
        "**Key Methods:**\n",
        "- [`nx.nx_agraph.to_agraph()`](https://networkx.org/documentation/stable/reference/generated/networkx.drawing.nx_agraph.to_agraph.html) - Convert to PyGraphviz format\n",
        "- Layout algorithms: 'dot', 'neato', 'fdp', 'sfdp', 'circo', 'twopi'\n",
        "\n",
        "**Hint:** PyGraphviz uses Graphviz layout engines. 'neato' works well for undirected graphs, 'dot' for directed graphs.\n",
        "\n",
        "First, let's use the `draw` method from NetworkX for comparison. We'll use a matplotlib figure to hold the NetworkX plot."
      ]
    },
    {
      "cell_type": "code",
      "execution_count": null,
      "id": "cell-viz-basic",
      "metadata": {
        "id": "cell-viz-basic"
      },
      "outputs": [],
      "source": [
        "# Example: Basic visualization with NetworkX (for comparison)\n",
        "plt.figure(figsize=(12, 4))\n",
        "\n",
        "plt.subplot(1, 2, 1)\n",
        "nx.draw(G_undirected, with_labels=True, node_color='lightblue',\n",
        "        node_size=500, font_size=16, font_weight='bold')\n",
        "plt.title(\"Basic NetworkX Plot\")\n",
        "\n",
        "plt.subplot(1, 2, 2)\n",
        "# Visualizing the directed graph with arrows, set `arrows=True`\n",
        "nx.draw_spring(G_directed, with_labels=True, node_color='lightcoral',\n",
        "               node_size=500, font_size=16, font_weight='bold',\n",
        "               arrows=True, arrowsize=20)\n",
        "plt.title(\"Directed Graph with Arrows\")\n",
        "\n",
        "plt.tight_layout()\n",
        "plt.show()"
      ]
    },
    {
      "cell_type": "markdown",
      "id": "8ac4ab6c",
      "metadata": {
        "id": "8ac4ab6c"
      },
      "source": [
        "## PyGraphViz and Node Attributes\n",
        "Now let's use PyGraphViz. The code below tests for pygraphviz installation. If pygraphviz is not available, it falls back to the NetworkX visualization tools. Notice the key elements:\n",
        "1. In the graph construction, each node is assigned an attribute, `role` stored in `node.attr`. Additionally, the `role` value is used to to assign the attributes `fillcolor` and `fontcolor` to each node. Essentially, the `node.attr` is a dictionary that can be used to store any attribute assigned to a node.\n",
        "2. The NetworkX graph must be converted to a PyGraphViz format\n",
        "3. The PyGraphViz library does not render an image to screen. We must first save it to an image file and then display the file."
      ]
    },
    {
      "cell_type": "code",
      "execution_count": null,
      "id": "cell-viz-colored",
      "metadata": {
        "id": "cell-viz-colored"
      },
      "outputs": [],
      "source": [
        "# Example: Advanced formatting with node attributes\n",
        "try:\n",
        "    # Create graph with node attributes\n",
        "    G_colors = nx.Graph()\n",
        "    G_colors.add_node('A', role='leader', size=20)\n",
        "    G_colors.add_node('B', role='member', size=15)\n",
        "    G_colors.add_node('C', role='member', size=15)\n",
        "    G_colors.add_node('D', role='leader', size=20)\n",
        "    G_colors.add_edges_from([('A', 'B'), ('B', 'C'), ('C', 'D'), ('D', 'A')])\n",
        "\n",
        "    A_colors = nx.nx_agraph.to_agraph(G_colors)\n",
        "    A_colors.graph_attr.update(size=\"6,6!\", dpi=\"150\")\n",
        "\n",
        "    # Color nodes based on attributes\n",
        "    for node in A_colors.nodes():\n",
        "        n = A_colors.get_node(node)\n",
        "        if G_colors.nodes[node]['role'] == 'leader':\n",
        "            n.attr['fillcolor'] = 'red'\n",
        "            n.attr['fontcolor'] = 'white'\n",
        "        else:\n",
        "            n.attr['fillcolor'] = 'lightgreen'\n",
        "\n",
        "        n.attr['style'] = 'filled'\n",
        "        n.attr['fontsize'] = str(G_colors.nodes[node]['size'])\n",
        "\n",
        "    A_colors.layout(prog='circo')\n",
        "    A_colors.draw(os.path.join(OUTPUT_DIR, 'graph_with_colors.png'))\n",
        "\n",
        "    display(Image(os.path.join(OUTPUT_DIR, 'graph_with_colors.png')))\n",
        "\n",
        "except ImportError:\n",
        "    print(\"Using NetworkX for colored visualization...\")\n",
        "    plt.figure(figsize=(8, 6))\n",
        "\n",
        "    # Fallback with NetworkX\n",
        "    G_colors = nx.Graph()\n",
        "    G_colors.add_edges_from([('A', 'B'), ('B', 'C'), ('C', 'D'), ('D', 'A')])\n",
        "\n",
        "    node_colors = ['red' if node in ['A', 'D'] else 'lightgreen'\n",
        "                   for node in G_colors.nodes()]\n",
        "\n",
        "    nx.draw_circular(G_colors, with_labels=True, node_color=node_colors,\n",
        "                     node_size=800, font_size=16, font_weight='bold')\n",
        "    plt.title(\"Colored Graph (NetworkX fallback)\")\n",
        "    plt.show()"
      ]
    },
    {
      "cell_type": "markdown",
      "id": "7cf04105",
      "metadata": {
        "id": "7cf04105"
      },
      "source": [
        "Let's consider another example. Here, we will use the PyGraphViz to view the built in dataset, [Karate Club Graph](https://networkx.org/documentation/stable/reference/generated/networkx.generators.social.karate_club_graph.html#networkx.generators.social.karate_club_graph), is loaded from the NetworkX libraray. Each node in the returned graph has a node attribute `club` that indicates the name of the club to which the member represented by that node belongs, either ‘Mr. Hi’ or ‘Officer’. Each edge has a weight based on the number of contexts in which that edge’s incident node members interacted. The node color is assigned based on the `club` attribute. The edge color is assigned based the edge `weight` attribute compared to the average weight and the edge thickness is based on the edge `weight` attribute."
      ]
    },
    {
      "cell_type": "code",
      "execution_count": null,
      "id": "cell-viz-pygraphviz",
      "metadata": {
        "id": "cell-viz-pygraphviz"
      },
      "outputs": [],
      "source": [
        "# Example: Advanced visualization with PyGraphviz\n",
        "try:\n",
        "    import pygraphviz as pgv\n",
        "\n",
        "    # Create a more complex graph for visualization\n",
        "    G_viz = nx.karate_club_graph()\n",
        "\n",
        "    # Convert to PyGraphviz format\n",
        "    A = nx.nx_agraph.to_agraph(G_viz)\n",
        "\n",
        "    # Set graph attributes\n",
        "    A.graph_attr.update(size=\"8,8!\", dpi=\"150\")\n",
        "    # Set the node color based on the 'club' attribute\n",
        "    for node in A.nodes():\n",
        "        club = G_viz.nodes[int(node)].get('club', 'Unknown')\n",
        "        if club == 'Mr. Hi':\n",
        "            node.attr['fillcolor'] = 'lightblue'\n",
        "        else:\n",
        "            node.attr['fillcolor'] = 'lightcoral'\n",
        "        node.attr['style'] = 'filled'\n",
        "        node.attr['fontsize'] = '12'\n",
        "        node.attr['fontname'] = 'Arial'\n",
        "\n",
        "    # set edge color based on edge weight.\n",
        "    avg_weight = np.mean([d['weight'] for u, v, d in G_viz.edges(data=True)])\n",
        "    for u, v, d in G_viz.edges(data=True):\n",
        "        weight = d.get('weight', 1)\n",
        "        if weight > avg_weight:\n",
        "            A.get_edge(u, v).attr['color'] = 'black'\n",
        "        else:\n",
        "            A.get_edge(u, v).attr['color'] = 'lightgray'\n",
        "        A.get_edge(u, v).attr['penwidth'] = str(weight)  # Scale penwidth by weight\n",
        "\n",
        "    # Apply layout and save\n",
        "    A.layout(prog='neato')\n",
        "\n",
        "    # Save the graph to a file. Graphviz does not create images directly, so we save as PNG\n",
        "    A.draw(os.path.join(OUTPUT_DIR, 'karate_club_basic.png'))\n",
        "\n",
        "    # Display the image\n",
        "    display(Image(os.path.join(OUTPUT_DIR, 'karate_club_basic.png')))\n",
        "\n",
        "except ImportError:\n",
        "    print(\"PyGraphviz not available. Using NetworkX visualization instead.\")\n",
        "    plt.figure(figsize=(10, 8))\n",
        "    G_viz = nx.karate_club_graph()\n",
        "    nx.draw_spring(G_viz, with_labels=True, node_color='lightblue',\n",
        "                   node_size=300, font_size=8)\n",
        "    plt.title(\"Karate Club Graph (NetworkX fallback)\")\n",
        "    plt.show()"
      ]
    },
    {
      "cell_type": "markdown",
      "id": "cell-exercise2a-intro",
      "metadata": {
        "id": "cell-exercise2a-intro"
      },
      "source": [
        "**Exercise 2.1:** Create a visualization of your graph from Exercise 1.1 with custom node colors and sizes:"
      ]
    },
    {
      "cell_type": "code",
      "execution_count": null,
      "id": "cell-exercise2a",
      "metadata": {
        "id": "cell-exercise2a"
      },
      "outputs": [],
      "source": [
        "# Exercise 2.1: Visualize with custom formatting\n",
        "# Use your G_exercise1 from Exercise 1.1\n",
        "\n",
        "try:\n",
        "    #A_ex = ___  # Convert to PyGraphviz format\n",
        "    A_ex = nx.nx_agraph.to_agraph(G_exercise1)\n",
        "\n",
        "    # Set basic graph attributes\n",
        "    A_ex.graph_attr.update(___) # Your code here\n",
        "\n",
        "    # Color nodes: make node 1 red, others blue\n",
        "    for node in A_ex.nodes():\n",
        "        n = A_ex.get_node(node)\n",
        "        if node == '1':\n",
        "            n.attr['fillcolor'] = ___ # Your code here\n",
        "        else:\n",
        "            n.attr['fillcolor'] = ___ # Your code here\n",
        "        n.attr['style'] = 'filled'\n",
        "\n",
        "    A_ex.layout(prog='neato')\n",
        "    A_ex.draw(os.path.join(OUTPUT_DIR, 'exercise2_1.png'))\n",
        "    display(Image(os.path.join(OUTPUT_DIR, 'exercise2_1.png')))\n",
        "\n",
        "except (ImportError, NameError):\n",
        "    # Fallback with NetworkX\n",
        "    plt.figure(figsize=(8, 6))\n",
        "    node_colors = ['red' if node == 1 else 'lightblue' for node in G_exercise1.nodes()]\n",
        "    nx.draw_spring(G_exercise1, with_labels=True, node_color=node_colors,\n",
        "                   node_size=500, font_size=16, font_weight='bold')\n",
        "    plt.title(\"Exercise 2.1 - Custom Colors\")\n",
        "    plt.show()"
      ]
    },
    {
      "cell_type": "markdown",
      "id": "cell-section3",
      "metadata": {
        "id": "cell-section3"
      },
      "source": [
        "---\n",
        "## 3. Adding and Removing Edges\n",
        "\n",
        "**Background:** Dynamic graph modification is essential for modeling evolving networks. NetworkX provides methods to add/remove edges while maintaining graph properties.\n",
        "\n",
        "**Key Methods:**\n",
        "- [`add_edge()`](https://networkx.org/documentation/stable/reference/classes/generated/networkx.Graph.add_edge.html) - Add single edge\n",
        "- [`add_edges_from()`](https://networkx.org/documentation/stable/reference/classes/generated/networkx.Graph.add_edges_from.html) - Add multiple edges\n",
        "- [`remove_edge()`](https://networkx.org/documentation/stable/reference/classes/generated/networkx.Graph.remove_edge.html) - Remove single edge\n",
        "- [`remove_edges_from()`](https://networkx.org/documentation/stable/reference/classes/generated/networkx.Graph.remove_edges_from.html) - Remove multiple edges"
      ]
    },
    {
      "cell_type": "code",
      "execution_count": null,
      "id": "cell-modify-initial",
      "metadata": {
        "id": "cell-modify-initial"
      },
      "outputs": [],
      "source": [
        "# Example: Starting with a simple graph\n",
        "G_modify = nx.Graph()\n",
        "G_modify.add_edges_from([(1, 2), (2, 3), (3, 4)])\n",
        "\n",
        "print(\"Initial graph:\")\n",
        "print(f\"Edges: {list(G_modify.edges())}\")\n",
        "print(f\"Number of edges: {G_modify.number_of_edges()}\")\n",
        "\n",
        "# Visualize initial graph\n",
        "plt.figure(figsize=(8, 6))\n",
        "plt.subplot(1, 1, 1)\n",
        "nx.draw(G_modify, with_labels=True, node_color='lightblue', node_size=500)\n",
        "plt.title(\"Initial Graph\")"
      ]
    },
    {
      "cell_type": "code",
      "execution_count": null,
      "id": "cell-modify-add",
      "metadata": {
        "id": "cell-modify-add"
      },
      "outputs": [],
      "source": [
        "# Example: Adding edges to undirected graph\n",
        "G_modify.add_edge(1, 4)  # Add single edge\n",
        "G_modify.add_edges_from([(2, 4), (1, 3)])  # Add multiple edges\n",
        "\n",
        "print(\"After adding edges:\")\n",
        "print(f\"Edges: {list(G_modify.edges())}\")\n",
        "print(f\"Number of edges: {G_modify.number_of_edges()}\")\n",
        "\n",
        "plt.figure(figsize=(8, 6))\n",
        "plt.subplot(1, 1, 1)\n",
        "nx.draw(G_modify, with_labels=True, node_color='lightgreen', node_size=500)\n",
        "plt.title(\"After Adding Edges\")"
      ]
    },
    {
      "cell_type": "code",
      "execution_count": null,
      "id": "cell-modify-remove",
      "metadata": {
        "id": "cell-modify-remove"
      },
      "outputs": [],
      "source": [
        "# Example: Removing edges\n",
        "G_modify.remove_edge(2, 4)  # Remove single edge\n",
        "G_modify.remove_edges_from([(3,4), (1,2)])  # Remove multiple edges\n",
        "\n",
        "print(\"After removing edges:\")\n",
        "print(f\"Edges: {list(G_modify.edges())}\")\n",
        "print(f\"Number of edges: {G_modify.number_of_edges()}\")\n",
        "\n",
        "plt.figure(figsize=(8, 6))\n",
        "plt.subplot(1, 1, 1)\n",
        "nx.draw(G_modify, with_labels=True, node_color='lightcoral', node_size=500)\n",
        "plt.title(\"After Removing Edges\")\n",
        "\n",
        "plt.tight_layout()\n",
        "plt.show()"
      ]
    },
    {
      "cell_type": "code",
      "execution_count": null,
      "id": "cell-modify-directed",
      "metadata": {
        "id": "cell-modify-directed"
      },
      "outputs": [],
      "source": [
        "# Example: Working with directed graphs\n",
        "G_directed_modify = nx.DiGraph()\n",
        "G_directed_modify.add_edges_from([(1, 2), (2, 3), (3, 1)])\n",
        "\n",
        "print(\"\\nDirected graph operations:\")\n",
        "print(f\"Initial edges: {list(G_directed_modify.edges())}\")\n",
        "\n",
        "# Add directed edges\n",
        "G_directed_modify.add_edge(3, 4)\n",
        "G_directed_modify.add_edge(4, 1)  # Creates a cycle\n",
        "\n",
        "print(f\"After adding edges: {list(G_directed_modify.edges())}\")\n",
        "\n",
        "# Check if edge exists (order matters in directed graphs)\n",
        "print(f\"Edge (1,2) exists: {G_directed_modify.has_edge(1, 2)}\")\n",
        "print(f\"Edge (2,1) exists: {G_directed_modify.has_edge(2, 1)}\")\n",
        "\n",
        "plt.figure(figsize=(8, 6))\n",
        "plt.subplot(1, 1, 1)\n",
        "nx.draw(G_directed_modify, with_labels=True, node_color='lightcoral', node_size=500)"
      ]
    },
    {
      "cell_type": "markdown",
      "id": "cell-exercise3-intro",
      "metadata": {
        "id": "cell-exercise3-intro"
      },
      "source": [
        "**Exercise 3.1:** Create a directed graph and perform the following operations:\n",
        "- Add initial edges: (1,2), (2,3), (3,4)\n",
        "- Add edge (4,1) to create a cycle\n",
        "- Add edges (1,3) and (2,4)\n",
        "- Remove edge (1,3)"
      ]
    },
    {
      "cell_type": "code",
      "execution_count": null,
      "id": "cell-exercise3",
      "metadata": {
        "id": "cell-exercise3"
      },
      "outputs": [],
      "source": [
        "# Exercise 3.1: Directed graph edge operations\n",
        "# Start with an empty directed graph\n",
        "G_ex3 = ___  # Create empty directed graph\n",
        "\n",
        "# Add initial edges: (1,2), (2,3), (3,4)\n",
        "G_ex3.___  # Your code here\n",
        "\n",
        "print(f\"Initial edges: {list(G_ex3.edges())}\")\n",
        "\n",
        "# Add edge (4,1) to create a cycle\n",
        "G_ex3.___  # Your code here\n",
        "\n",
        "# Add edges (1,3) and (2,4)\n",
        "G_ex3.___  # Your code here\n",
        "\n",
        "print(f\"After additions: {list(G_ex3.edges())}\")\n",
        "print(f\"Number of edges: {G_ex3.number_of_edges()}\")\n",
        "\n",
        "# Remove edge (1,3)\n",
        "G_ex3.___  # Your code here\n",
        "\n",
        "print(f\"Final edges: {list(G_ex3.edges())}\")"
      ]
    },
    {
      "cell_type": "code",
      "execution_count": null,
      "id": "cell-exercise3-validation",
      "metadata": {
        "id": "cell-exercise3-validation"
      },
      "outputs": [],
      "source": [
        "# Validation for Exercise 3.1\n",
        "expected_final_edges = {(1, 2), (2, 3), (3, 4), (4, 1), (2, 4)}\n",
        "actual_edges = set(G_ex3.edges())\n",
        "\n",
        "if actual_edges == expected_final_edges and nx.is_directed(G_ex3):\n",
        "    print(\"Exercise 3.1 correct!\")\n",
        "    # Visualize the result\n",
        "    plt.figure(figsize=(6, 6))\n",
        "    nx.draw_circular(G_ex3, with_labels=True, node_color='yellow',\n",
        "                     node_size=500, arrows=True, arrowsize=20)\n",
        "    plt.title(\"Exercise 3.1 Result\")\n",
        "    plt.show()\n",
        "else:\n",
        "    print(f\"Exercise 3.1 incorrect.\")\n",
        "    print(f\"Expected: {expected_final_edges}\")\n",
        "    print(f\"Got: {actual_edges}\")"
      ]
    },
    {
      "cell_type": "markdown",
      "id": "cell-section4",
      "metadata": {
        "id": "cell-section4"
      },
      "source": [
        "---\n",
        "## 4. Adding Node Attributes\n",
        "We saw above how node attributes can be used to set properties for the graph visualziation. In general, nodes can store almost any information as attributes (metadata). This is crucial for real-world networks where nodes represent entities with properties (e.g., names, categories, weights). Let's explore node attributes some more.\n",
        "\n",
        "**Key Methods:**\n",
        "- [`add_node()`](https://networkx.org/documentation/stable/reference/classes/generated/networkx.Graph.add_node.html) - Add node with attributes\n",
        "- [`nodes[node]`](https://networkx.org/documentation/stable/reference/classes/generated/networkx.Graph.nodes.html) - Access/modify node attributes\n",
        "- [`set_node_attributes()`](https://networkx.org/documentation/stable/reference/generated/networkx.classes.function.set_node_attributes.html) - Set attributes for multiple nodes\n",
        "\n",
        "**Hint:** Attributes are stored as dictionaries and can hold any Python data type.\n",
        "\n",
        "First let's add attributes to individual nodes when we add them to the graph and then access them."
      ]
    },
    {
      "cell_type": "code",
      "execution_count": null,
      "id": "cell-attributes-example",
      "metadata": {
        "id": "cell-attributes-example"
      },
      "outputs": [],
      "source": [
        "# Example: Creating a graph with named nodes\n",
        "G_names = nx.Graph()\n",
        "\n",
        "# Add nodes with name attributes\n",
        "G_names.add_node(1, name='Bob', role='student', year=2023)\n",
        "G_names.add_node(2, name='Alice', role='professor', year=2020)\n",
        "G_names.add_node(3, name='Carol', role='student', year=2022)\n",
        "G_names.add_node(4, name='David', role='staff', year=2021)\n",
        "\n",
        "# Add edges\n",
        "G_names.add_edges_from([(1, 2), (2, 3), (3, 4), (4, 1), (1, 3)])\n",
        "\n",
        "print(\"Nodes with attributes:\")\n",
        "for node, attrs in G_names.nodes(data=True):\n",
        "    print(f\"Node {node}: {attrs}\")\n",
        "\n",
        "print(f\"\\nAccessing specific attribute - Alice's role: {G_names.nodes[1]['role']}\")\n",
        "print(f\"Bob's name: {G_names.nodes[2]['name']}\")"
      ]
    },
    {
      "cell_type": "markdown",
      "id": "df1cd8f6",
      "metadata": {
        "id": "df1cd8f6"
      },
      "source": [
        "Now let's try adding an attribute to a group of nodes."
      ]
    },
    {
      "cell_type": "code",
      "execution_count": null,
      "id": "cell-attributes-existing",
      "metadata": {
        "id": "cell-attributes-existing"
      },
      "outputs": [],
      "source": [
        "# Example: Adding attributes to existing nodes\n",
        "G_attr = nx.path_graph(4)  # Creates nodes 0,1,2,3 with edges in sequence\n",
        "\n",
        "# Add attributes individually\n",
        "G_attr.nodes[0]['name'] = 'Start'\n",
        "G_attr.nodes[1]['name'] = 'Middle1'\n",
        "G_attr.nodes[2]['name'] = 'Middle2'\n",
        "G_attr.nodes[3]['name'] = 'End'\n",
        "\n",
        "print(\"Path graph with names:\")\n",
        "for node in G_attr.nodes():\n",
        "    print(f\"Node {node}: {G_attr.nodes[node]['name']}\")\n",
        "\n",
        "# Add attributes to multiple nodes at once\n",
        "categories = {0: 'source', 1: 'intermediate', 2: 'intermediate', 3: 'sink'}\n",
        "nx.set_node_attributes(G_attr, categories, 'category')\n",
        "\n",
        "print(\"\\nAfter adding categories:\")\n",
        "for node, attrs in G_attr.nodes(data=True):\n",
        "    print(f\"Node {node}: {attrs}\")"
      ]
    },
    {
      "cell_type": "markdown",
      "id": "2db8d841",
      "metadata": {
        "id": "2db8d841"
      },
      "source": [
        "Now, let's use the node attributes to add labels to the graph visualization."
      ]
    },
    {
      "cell_type": "code",
      "execution_count": null,
      "id": "cell-attributes-viz",
      "metadata": {
        "id": "cell-attributes-viz"
      },
      "outputs": [],
      "source": [
        "# Example: Visualizing graphs with node labels\n",
        "plt.figure(figsize=(12, 5))\n",
        "\n",
        "plt.subplot(1, 2, 1)\n",
        "# Create node labels from names\n",
        "node_labels = {node: G_names.nodes[node]['name'] for node in G_names.nodes()}\n",
        "node_colors = ['lightblue' if G_names.nodes[node]['role'] == 'student'\n",
        "               else 'orange' if G_names.nodes[node]['role'] == 'professor'\n",
        "               else 'lightgreen' for node in G_names.nodes()]\n",
        "\n",
        "nx.draw_spring(G_names, labels=node_labels, with_labels=True,\n",
        "               node_color=node_colors, node_size=1000, font_size=10, font_weight='bold')\n",
        "plt.title(\"Network with Names\\n(Blue=Student, Orange=Professor, Green=Staff)\")\n",
        "\n",
        "plt.subplot(1, 2, 2)\n",
        "# Show both node IDs and names\n",
        "combined_labels = {node: f\"{node}\\n{G_names.nodes[node]['name']}\"\n",
        "                   for node in G_names.nodes()}\n",
        "nx.draw_circular(G_names, labels=combined_labels, with_labels=True,\n",
        "                 node_color=node_colors, node_size=1200, font_size=9)\n",
        "plt.title(\"Network with IDs and Names\")\n",
        "\n",
        "plt.tight_layout()\n",
        "plt.show()"
      ]
    },
    {
      "cell_type": "markdown",
      "id": "cell-exercise4-intro",
      "metadata": {
        "id": "cell-exercise4-intro"
      },
      "source": [
        "**Exercise 4.1:** Create a social network graph with the following people and add appropriate attributes:\n",
        "- Person 1: Emma (age 25, city: \"New York\")\n",
        "- Person 2: James (age 30, city: \"Boston\")\n",
        "- Person 3: Sofia (age 28, city: \"New York\")\n",
        "- Person 4: Michael (age 35, city: \"Boston\")\n",
        "\n",
        "Include edges for the riendships: Emma-James, Emma-Sofia, James-Michael, Sofia-Michael, Emma-Michael"
      ]
    },
    {
      "cell_type": "code",
      "execution_count": null,
      "id": "cell-exercise4",
      "metadata": {
        "id": "cell-exercise4"
      },
      "outputs": [],
      "source": [
        "G_social = nx.Graph()\n",
        "\n",
        "# Add nodes with attributes\n",
        "# Your code here\n",
        "G_social.add_node(___, name=___, age=___, city=___)  # Emma\n",
        "G_social.___  # James\n",
        "G_social.___  # Sofia\n",
        "G_social.___  # Michael\n",
        "\n",
        "# Add friendships (edges)\n",
        "G_social.add_edges_from(___)  # Your code here\n",
        "\n",
        "print(\"Social Network:\")\n",
        "for node, attrs in G_social.nodes(data=True):\n",
        "    print(f\"Person {node}: {attrs}\")\n",
        "\n",
        "print(f\"\\nFriendships: {list(G_social.edges())}\")\n",
        "\n",
        "# Bonus: Find all people from New York\n",
        "ny_people = [node for node in G_social.nodes() if G_social.nodes[node]['city'] == 'New York']\n",
        "print(f\"People from New York: {ny_people}\")"
      ]
    },
    {
      "cell_type": "code",
      "execution_count": null,
      "id": "cell-exercise4-validation",
      "metadata": {
        "id": "cell-exercise4-validation"
      },
      "outputs": [],
      "source": [
        "# Validation for Exercise 4.1\n",
        "expected_nodes = {1, 2, 3, 4}\n",
        "expected_edges = {(1, 2), (1, 3), (1,4), (2, 4), (3, 4)}\n",
        "expected_ny = [1, 3]  # Emma and Sofia\n",
        "\n",
        "if (set(G_social.nodes()) == expected_nodes and\n",
        "    set(G_social.edges()) == expected_edges and\n",
        "    G_social.nodes[1]['name'] == 'Emma' and\n",
        "    G_social.nodes[1]['city'] == 'New York'):\n",
        "    print(\"Exercise 4.1 correct!\")\n",
        "\n",
        "    # Visualize the social network\n",
        "    plt.figure(figsize=(10, 6))\n",
        "    node_labels = {node: G_social.nodes[node]['name'] for node in G_social.nodes()}\n",
        "    node_colors = ['lightblue' if G_social.nodes[node]['city'] == 'New York'\n",
        "                   else 'lightcoral' for node in G_social.nodes()]\n",
        "\n",
        "    nx.draw_spring(G_social, labels=node_labels, with_labels=True,\n",
        "                   node_color=node_colors, node_size=1500, font_size=12, font_weight='bold')\n",
        "    plt.title(\"Social Network\\n(Blue=New York, Red=Boston)\")\n",
        "    plt.show()\n",
        "else:\n",
        "    print(\"Exercise 4.1 incorrect. Check your node attributes and edges.\")"
      ]
    },
    {
      "cell_type": "markdown",
      "id": "cell-section5",
      "metadata": {
        "id": "cell-section5"
      },
      "source": [
        "---\n",
        "## 5. Graph-Level Metrics for Undirected Networks\n",
        "\n",
        "**Background:** Graph-level metrics characterize the overall structure and properties of networks. These metrics help understand network density, clustering patterns, and mixing behavior.\n",
        "\n",
        "**Key Metrics:**\n",
        "- **Density**: Fraction of possible edges that exist (0 = no edges, 1 = complete graph)\n",
        "- **Clustering Coefficient**: Tendency of nodes to cluster together  \n",
        "- **Assortativity**: Preference for nodes to connect to similar nodes. Here we consider degree assortativity. However, in principle, assortativity can be based on any node attribute.\n",
        "\n",
        "**Key Methods:**\n",
        "- [`density()`](https://networkx.org/documentation/stable/reference/generated/networkx.classes.function.density.html) - Network density\n",
        "- [`average_clustering()`](https://networkx.org/documentation/stable/reference/algorithms/generated/networkx.algorithms.cluster.average_clustering.html) - Global clustering coefficient\n",
        "- [`degree_assortativity_coefficient()`](https://networkx.org/documentation/stable/reference/algorithms/generated/networkx.algorithms.assortativity.degree_assortativity_coefficient.html) - Degree assortativity\n",
        "\n",
        "We will use several of the graph generation methods in NetworkX to build test graphs and then examine the differences in the graph metrics. Notice that the degree assortativity is NaN when all nodes in a graph have the same degree, or when the variance of node degrees is zero. This occurs because the formula for calculating the Pearson correlation coefficient, which is used to determine assortativity, involves division by the standard deviation of node degrees. If all nodes have the same degree, the standard deviation is zero."
      ]
    },
    {
      "cell_type": "code",
      "execution_count": null,
      "id": "cell-metrics-comparison",
      "metadata": {
        "id": "cell-metrics-comparison"
      },
      "outputs": [],
      "source": [
        "# Example: Calculating graph metrics on different network types\n",
        "print(\"=== GRAPH METRICS COMPARISON ===\\n\")\n",
        "\n",
        "# Create different types of networks for comparison\n",
        "networks = {\n",
        "    'Complete Graph (K5)': nx.complete_graph(5),\n",
        "    'Path Graph': nx.path_graph(5),\n",
        "    'Cycle Graph': nx.cycle_graph(5),\n",
        "    'Random Graph': nx.erdos_renyi_graph(5, 0.4, seed=42),\n",
        "    'Karate Club': nx.karate_club_graph()\n",
        "}\n",
        "\n",
        "# visualize the networks\n",
        "plt.figure(figsize=(15, 10))\n",
        "for i, (name, G) in enumerate(networks.items(), 1):\n",
        "    plt.subplot(2, 3, i)\n",
        "    nx.draw(G, with_labels=True, node_color='lightblue', node_size=500, font_size=16, font_weight='bold')\n",
        "    plt.title(name)\n",
        "\n",
        "# Calculate and display metrics\n",
        "for name, G in networks.items():\n",
        "    density = nx.density(G)\n",
        "    avg_clustering = nx.average_clustering(G)\n",
        "\n",
        "    # Assortativity (only for graphs with edges)\n",
        "    if G.number_of_edges() > 0:\n",
        "        assortativity = nx.degree_assortativity_coefficient(G)\n",
        "    else:\n",
        "        assortativity = \"N/A\"\n",
        "\n",
        "    print(f\"{name}:\")\n",
        "    print(f\"  Nodes: {G.number_of_nodes():2d} | Edges: {G.number_of_edges():2d}\")\n",
        "    print(f\"  Density: {density:.3f}\")\n",
        "    print(f\"  Avg Clustering: {avg_clustering:.3f}\")\n",
        "    print(f\"  Degree Assortativity: {assortativity}\")\n",
        "    print()"
      ]
    },
    {
      "cell_type": "markdown",
      "id": "cell-exercise5-intro",
      "metadata": {
        "id": "cell-exercise5-intro"
      },
      "source": [
        "**Exercise 5.1:** Analyze the graph metrics for your social network from Exercise 4.1:"
      ]
    },
    {
      "cell_type": "code",
      "execution_count": null,
      "id": "cell-exercise5",
      "metadata": {
        "id": "cell-exercise5"
      },
      "outputs": [],
      "source": [
        "# Exercise 5.1: Calculate metrics for social network\n",
        "# Use G_social from Exercise 4.1\n",
        "\n",
        "# Calculate density\n",
        "social_density = ___  # Your code here\n",
        "\n",
        "# Calculate average clustering coefficient\n",
        "social_clustering = ___  # Your code here\n",
        "\n",
        "# Calculate degree assortativity coefficient\n",
        "social_assortativity = ___  # Your code here\n",
        "\n",
        "print(\"Social Network Metrics:\")\n",
        "print(f\"Density: {social_density:.3f}\")\n",
        "print(f\"Average Clustering Coefficient: {social_clustering:.3f}\")\n",
        "print(f\"Degree Assortativity: {social_assortativity:.3f}\")\n",
        "\n",
        "# Bonus: Calculate local clustering for each person\n",
        "print(f\"\\nLocal clustering coefficients:\")\n",
        "for node in G_social.nodes():\n",
        "    name = G_social.nodes[node]['name']\n",
        "    local_cc = ___  # Your code here\n",
        "    print(f\"{name} (Node {node}): {local_cc:.3f}\")"
      ]
    },
    {
      "cell_type": "code",
      "execution_count": null,
      "id": "cell-exercise5-validation",
      "metadata": {
        "id": "cell-exercise5-validation"
      },
      "outputs": [],
      "source": [
        "# Validation for Exercise 5.1\n",
        "try:\n",
        "    expected_density = 5 / 6  # 4 edges out of 6 possible = 0.667\n",
        "    expected_clustering = 5 / 6  # Based on the network structure\n",
        "\n",
        "    if (abs(social_density - expected_density) < 0.01 and\n",
        "        abs(social_clustering - expected_clustering) < 0.01):\n",
        "        print(\"Exercise 5.1 correct!\")\n",
        "        print(f\"Interpretation:\")\n",
        "        print(f\"- Density of {social_density:.3f} means {social_density*100:.1f}% of possible friendships exist\")\n",
        "        print(f\"- High clustering ({social_clustering:.3f}) indicates friend groups tend to be interconnected\")\n",
        "        if social_assortativity > 0:\n",
        "            print(f\"- Positive assortativity ({social_assortativity:.3f}) suggests people with similar numbers of friends tend to connect\")\n",
        "        else:\n",
        "            print(f\"- Negative assortativity ({social_assortativity:.3f}) suggests mixing between people with different numbers of friends\")\n",
        "    else:\n",
        "        print(\"Exercise 5.1 incorrect. Check your metric calculations.\")\n",
        "        print(f\"Expected density: {expected_density:.3f}, got: {social_density:.3f}\")\n",
        "        print(f\"Expected clustering: {expected_clustering:.3f}, got: {social_clustering:.3f}\")\n",
        "except NameError:\n",
        "    print(\"Please complete Exercise 5.1 first.\")"
      ]
    },
    {
      "cell_type": "markdown",
      "id": "cell-section6",
      "metadata": {
        "id": "cell-section6"
      },
      "source": [
        "---\n",
        "## 6. Node-Level Metrics for Directed and Undirected Graphs\n",
        "\n",
        "**Background:** Node-level metrics quantify the importance, influence, or structural position of individual nodes within the network. These metrics help identify key players, influential nodes, or structurally important positions.\n",
        "\n",
        "**Key Metrics:**\n",
        "- **Degree**: Number of connections (in/out/total for directed graphs)\n",
        "- **Eigenvector Centrality**: Influence based on connections to other influential nodes\n",
        "- **PageRank**: Importance based on quality of connections (originally for web pages)\n",
        "- **Local Clustering Coefficient**: How interconnected a node's neighbors are\n",
        "\n",
        "**Key Methods:**\n",
        "- [`degree()`](https://networkx.org/documentation/stable/reference/classes/generated/networkx.Graph.degree.html) - Node degrees\n",
        "- [`eigenvector_centrality()`](https://networkx.org/documentation/stable/reference/algorithms/generated/networkx.algorithms.centrality.eigenvector_centrality.html#networkx.algorithms.centrality.eigenvector_centrality) - Eigenvector centrality\n",
        "- [`pagerank()`](https://networkx.org/documentation/stable/reference/algorithms/link_analysis.html#module-networkx.algorithms.link_analysis.pagerank_alg) - PageRank values\n",
        "- [`clustering()`](https://networkx.org/documentation/stable/reference/algorithms/generated/networkx.algorithms.cluster.clustering.html#networkx.algorithms.cluster.clustering) - Local clustering coefficient\n",
        "- [`betweenness_centrality()`](https://networkx.org/documentation/stable/reference/algorithms/generated/networkx.algorithms.centrality.betweenness_centrality.html#networkx.algorithms.centrality.betweenness_centrality) - Betweeness Centrality\n",
        "\n",
        "Let's go back to the Karate Club graph and examine the node metrics."
      ]
    },
    {
      "cell_type": "code",
      "execution_count": null,
      "id": "cell-node-metrics-undirected",
      "metadata": {
        "id": "cell-node-metrics-undirected"
      },
      "outputs": [],
      "source": [
        "# Example: Node metrics for undirected graphs\n",
        "print(\"=== NODE METRICS: UNDIRECTED GRAPH ===\\n\")\n",
        "\n",
        "# Use Karate Club graph as an example\n",
        "G_karate = nx.karate_club_graph()\n",
        "\n",
        "# Calculate node degrees\n",
        "degrees = dict(G_karate.degree())\n",
        "print(\"Node Degrees (top 5):\")\n",
        "sorted_degrees = sorted(degrees.items(), key=lambda x: x[1], reverse=True)\n",
        "for node, degree in sorted_degrees[:5]:\n",
        "    print(f\"  Node {node}: {degree}\")\n",
        "\n",
        "# Calculate eigenvector centrality\n",
        "eigenvector_cent = nx.eigenvector_centrality(G_karate)\n",
        "print(f\"\\nEigenvector Centrality (top 5):\")\n",
        "sorted_eigen = sorted(eigenvector_cent.items(), key=lambda x: x[1], reverse=True)\n",
        "for node, cent in sorted_eigen[:5]:\n",
        "    print(f\"  Node {node}: {cent:.4f}\")\n",
        "\n",
        "# Calculate PageRank\n",
        "pagerank_scores = nx.pagerank(G_karate)\n",
        "print(f\"\\nPageRank (top 5):\")\n",
        "sorted_pr = sorted(pagerank_scores.items(), key=lambda x: x[1], reverse=True)\n",
        "for node, pr in sorted_pr[:5]:\n",
        "    print(f\"  Node {node}: {pr:.4f}\")\n",
        "\n",
        "# Calculate local clustering coefficient\n",
        "local_clustering = nx.clustering(G_karate)\n",
        "print(f\"\\nLocal Clustering Coefficient (top 5):\")\n",
        "sorted_clust = sorted(local_clustering.items(), key=lambda x: x[1], reverse=True)\n",
        "for node, clust in sorted_clust[:5]:\n",
        "    print(f\"  Node {node}: {clust:.4f}\")\n",
        "\n",
        "# Calculate teh betweenness centrality\n",
        "betweenness = nx.betweenness_centrality(G_karate)\n",
        "print(f\"\\nBetweenness Centrality (top 5):\")\n",
        "sorted_betweenness = sorted(betweenness.items(), key=lambda x: x[1], reverse=True)\n",
        "for node, bet in sorted_betweenness[:5]:\n",
        "    print(f\"  Node {node}: {bet:.4f}\")"
      ]
    },
    {
      "cell_type": "markdown",
      "id": "56fb5d59",
      "metadata": {
        "id": "56fb5d59"
      },
      "source": [
        "Centrality on directed networks can be quite different than on undirected networks. As particularly important case is for Eignevalue centrality based on in degree (or out degree) which does not give weight to outgoing edges. Hence a node may have many incoming edges, but if all of those are from nodes with only outgoing edges, then the node will have 0 eigenvalue centrality. PageRank addresses this issue. Let's see an example:"
      ]
    },
    {
      "cell_type": "code",
      "execution_count": null,
      "id": "cell-node-metrics-directed",
      "metadata": {
        "id": "cell-node-metrics-directed"
      },
      "outputs": [],
      "source": [
        "# Example: Node metrics for directed graphs\n",
        "print(\"=== NODE METRICS: DIRECTED GRAPH ===\\n\")\n",
        "\n",
        "# Create a directed graph example\n",
        "G_directed_ex = nx.DiGraph()\n",
        "G_directed_ex.add_edges_from([(1, 2), (1, 3), (2, 3), (3, 4), (4, 5), (5, 3), (2, 4)])\n",
        "\n",
        "# In directed graphs, we have in-degree, out-degree, and total degree\n",
        "in_degrees = dict(G_directed_ex.in_degree())\n",
        "out_degrees = dict(G_directed_ex.out_degree())\n",
        "total_degrees = dict(G_directed_ex.degree())\n",
        "\n",
        "print(\"Degree Analysis:\")\n",
        "for node in sorted(G_directed_ex.nodes()):\n",
        "    print(f\"Node {node}: In={in_degrees[node]:2d}, Out={out_degrees[node]:2d}, Total={total_degrees[node]:2d}\")\n",
        "\n",
        "# Eigenvector centrality for directed graphs\n",
        "try:\n",
        "    eigenvector_dir = nx.eigenvector_centrality(G_directed_ex)\n",
        "    print(f\"\\nEigenvector Centrality:\")\n",
        "    for node in sorted(G_directed_ex.nodes()):\n",
        "        print(f\"  Node {node}: {eigenvector_dir[node]:.4f}\")\n",
        "except:\n",
        "    print(f\"\\nEigenvector centrality could not be calculated (graph may not be strongly connected)\")\n",
        "\n",
        "# PageRank is particularly useful for directed graphs\n",
        "pagerank_dir = nx.pagerank(G_directed_ex)\n",
        "print(f\"\\nPageRank (particularly meaningful for directed graphs):\")\n",
        "sorted_pr_dir = sorted(pagerank_dir.items(), key=lambda x: x[1], reverse=True)\n",
        "for node, pr in sorted_pr_dir:\n",
        "    print(f\"  Node {node}: {pr:.4f}\")\n",
        "\n",
        "# Visualize the directed graph with PageRank-based node sizes\n",
        "plt.figure(figsize=(10, 6))\n",
        "pos = nx.spring_layout(G_directed_ex)\n",
        "\n",
        "# Scale node sizes based on PageRank\n",
        "node_sizes = [pagerank_dir[node] * 3000 for node in G_directed_ex.nodes()]\n",
        "\n",
        "nx.draw(G_directed_ex, pos, with_labels=True, node_size=node_sizes,\n",
        "        node_color='lightblue', arrows=True, arrowsize=20, font_weight='bold')\n",
        "plt.title(\"Directed Graph with Node Sizes Proportional to PageRank\")\n",
        "plt.show()"
      ]
    },
    {
      "cell_type": "markdown",
      "id": "cell-exercise6-intro",
      "metadata": {
        "id": "cell-exercise6-intro"
      },
      "source": [
        "**Exercise 6.1:** Calculate and compare node metrics for both undirected and directed versions of the same graph:"
      ]
    },
    {
      "cell_type": "code",
      "execution_count": null,
      "id": "cell-exercise6",
      "metadata": {
        "id": "cell-exercise6"
      },
      "outputs": [],
      "source": [
        "# Exercise 6.1: Compare undirected vs directed graph metrics\n",
        "# Start with a directed graph\n",
        "edges = [(1, 2), (2, 3), (3, 1), (1, 4), (4, 3)]\n",
        "\n",
        "G_directed_ex61 = nx.DiGraph()\n",
        "G_directed_ex61.add_edges_from(edges)\n",
        "\n",
        "# Create undirected version\n",
        "G_undirected_ex61 = G_directed_ex61.to_undirected()\n",
        "\n",
        "print(\"=== EXERCISE 6.1: DIRECTED vs UNDIRECTED COMPARISON ===\\n\")\n",
        "\n",
        "# For directed graph, calculate:\n",
        "print(\"DIRECTED GRAPH:\")\n",
        "# 1. In-degree and out-degree for each node\n",
        "in_deg_dict = ___  # Your code here\n",
        "out_deg_dict = ___  # Your code here\n",
        "\n",
        "print(\"In-degrees and Out-degrees:\")\n",
        "for node in sorted(G_directed_ex61.nodes()):\n",
        "    print(f\"  Node {node}: In={in_deg_dict[node]}, Out={out_deg_dict[node]}\")\n",
        "\n",
        "# 2. PageRank for directed graph\n",
        "pagerank_directed = ___  # Your code here\n",
        "print(f\"\\nPageRank (Directed):\")\n",
        "for node in sorted(G_directed_ex61.nodes()):\n",
        "    print(f\"  Node {node}: {pagerank_directed[node]:.4f}\")\n",
        "\n",
        "print(\"\\nUNDIRECTED GRAPH:\")\n",
        "# 3. Degree for undirected graph\n",
        "degrees_undirected = ___  # Your code here\n",
        "print(\"Degrees:\")\n",
        "for node in sorted(G_undirected_ex61.nodes()):\n",
        "    print(f\"  Node {node}: {degrees_undirected[node]}\")\n",
        "\n",
        "# 4. PageRank for undirected graph\n",
        "pagerank_undirected = ___  # Your code here\n",
        "print(f\"\\nPageRank (Undirected):\")\n",
        "for node in sorted(G_undirected_ex61.nodes()):\n",
        "    print(f\"  Node {node}: {pagerank_undirected[node]:.4f}\")\n",
        "\n",
        "# 5. Eigenvector centrality for undirected graph\n",
        "eigenvector_undirected = ___  # Your code here\n",
        "print(f\"\\nEigenvector Centrality (Undirected):\")\n",
        "for node in sorted(G_undirected_ex61.nodes()):\n",
        "    print(f\"  Node {node}: {eigenvector_undirected[node]:.4f}\")"
      ]
    },
    {
      "cell_type": "code",
      "execution_count": null,
      "id": "cell-exercise6-validation",
      "metadata": {
        "id": "cell-exercise6-validation"
      },
      "outputs": [],
      "source": [
        "# Validation for Exercise 6.1\n",
        "try:\n",
        "    # Check if calculations are correct\n",
        "    expected_total_in_deg = sum(in_deg_dict.values())\n",
        "    expected_total_out_deg = sum(out_deg_dict.values())\n",
        "\n",
        "    if (expected_total_in_deg == expected_total_out_deg == 5 and  # Total edges\n",
        "        abs(sum(pagerank_directed.values()) - 1.0) < 0.01 and    # PageRank sums to 1\n",
        "        abs(sum(pagerank_undirected.values()) - 1.0) < 0.01):    # PageRank sums to 1\n",
        "        print(\"Exercise 6.1 correct!\")\n",
        "\n",
        "        # Visualize both graphs\n",
        "        plt.figure(figsize=(12, 5))\n",
        "\n",
        "        plt.subplot(1, 2, 1)\n",
        "        pos = nx.spring_layout(G_directed_ex61, seed=42)\n",
        "        nx.draw(G_directed_ex61, pos, with_labels=True, node_color='lightcoral',\n",
        "                node_size=800, arrows=True, arrowsize=20, font_weight='bold')\n",
        "        plt.title(\"Directed Graph\")\n",
        "\n",
        "        plt.subplot(1, 2, 2)\n",
        "        nx.draw(G_undirected_ex61, pos, with_labels=True, node_color='lightblue',\n",
        "                node_size=800, font_weight='bold')\n",
        "        plt.title(\"Undirected Graph\")\n",
        "\n",
        "        plt.tight_layout()\n",
        "        plt.show()\n",
        "\n",
        "        print(\"\\nKey Observations:\")\n",
        "        print(\"- Direction matters: PageRank values differ between directed/undirected versions\")\n",
        "        print(\"- In directed graphs, nodes with high in-degree tend to have higher PageRank\")\n",
        "        print(\"- Undirected graphs treat all connections equally\")\n",
        "\n",
        "    else:\n",
        "        print(\"Exercise 6.1 incorrect. Check your calculations.\")\n",
        "        print(f\"Total in-degree: {expected_total_in_deg} (should equal number of edges)\")\n",
        "        print(f\"Total out-degree: {expected_total_out_deg} (should equal number of edges)\")\n",
        "\n",
        "except NameError:\n",
        "    print(\"Please complete Exercise 6.1 first.\")"
      ]
    },
    {
      "cell_type": "markdown",
      "id": "cell-section7",
      "metadata": {
        "id": "cell-section7"
      },
      "source": [
        "---\n",
        "## 7. Finding Node Groups in Undirected Networks\n",
        "\n",
        "**Background:** Networks often contain cohesive subgroups of nodes. Understanding these structural patterns helps identify communities, robust substructures, and hierarchical organization.\n",
        "\n",
        "**Key Concepts:**\n",
        "- **Cliques**: Complete subgraphs where every node is connected to every other node\n",
        "- **k-cores**: Maximal subgraphs where each node has at least k connections within the subgraph  \n",
        "- **k-components**: Subgraphs that remain connected after removing any k-1 nodes\n",
        "\n",
        "**Key Methods:**\n",
        "- [`find_cliques()`](https://networkx.org/documentation/stable/reference/algorithms/generated/networkx.algorithms.clique.find_cliques.html) - Find all maximal cliques\n",
        "- [`k_core()`](https://networkx.org/documentation/stable/reference/algorithms/generated/networkx.algorithms.core.k_core.html) - Extract k-core subgraph\n",
        "- [`k_components()`](https://networkx.org/documentation/stable/reference/algorithms/generated/networkx.algorithms.connectivity.kcomponents.k_components.html) - Find k-connected components\n",
        "\n",
        "**Hint:** These algorithms help reveal different types of group structure - cliques show tight clusters, k-cores show dense regions, k-components show robust connectivity.\n",
        "\n",
        "First, let's look at cliques. Recall that all nodes in a clique are connecte to all other nodes in a clique."
      ]
    },
    {
      "cell_type": "code",
      "execution_count": null,
      "id": "cell-cliques-example",
      "metadata": {
        "id": "cell-cliques-example"
      },
      "outputs": [],
      "source": [
        "# Example: Finding cliques in a network\n",
        "print(\"=== FINDING CLIQUES ===\\n\")\n",
        "\n",
        "# Create a graph with several cliques\n",
        "G_cliques = nx.Graph()\n",
        "# Triangle 1: nodes 1,2,3\n",
        "G_cliques.add_edges_from([(1, 2), (2, 3), (1, 3)])\n",
        "# Triangle 2: nodes 3,4,5 (shares node 3 with triangle 1)\n",
        "G_cliques.add_edges_from([(3, 4), (4, 5), (3, 5)])\n",
        "# Square: nodes 6,7,8,9 (not complete - missing diagonals)\n",
        "G_cliques.add_edges_from([(6, 7), (7, 8), (8, 9), (9, 6)])\n",
        "# Connect the groups\n",
        "G_cliques.add_edges_from([(1, 6), (5, 8)])\n",
        "\n",
        "print(f\"Graph has {G_cliques.number_of_nodes()} nodes and {G_cliques.number_of_edges()} edges\")\n",
        "\n",
        "# visualize the graph\n",
        "plt.figure(figsize=(8, 6))\n",
        "pos = nx.spring_layout(G_cliques, seed=42)\n",
        "nx.draw(G_cliques, pos, with_labels=True, node_color='lightblue', node_size=800, font_size=16, font_weight='bold')\n",
        "plt.title(\"Graph with Cliques\")\n",
        "plt.show()\n",
        "\n",
        "# Find all maximal cliques\n",
        "cliques = list(nx.find_cliques(G_cliques))\n",
        "print(f\"\\nMaximal cliques found: {len(cliques)}\")\n",
        "for i, clique in enumerate(cliques):\n",
        "    print(f\"  Clique {i+1}: {sorted(clique)} (size: {len(clique)})\")\n",
        "\n",
        "# Find the largest clique\n",
        "largest_clique = max(cliques, key=len)\n",
        "print(f\"\\nLargest clique: {sorted(largest_clique)} (size: {len(largest_clique)})\")\n",
        "\n",
        "# Count cliques of different sizes\n",
        "clique_sizes = {}\n",
        "for clique in cliques:\n",
        "    size = len(clique)\n",
        "    clique_sizes[size] = clique_sizes.get(size, 0) + 1\n",
        "\n",
        "print(f\"\\nClique size distribution:\")\n",
        "for size in sorted(clique_sizes.keys()):\n",
        "    print(f\"  Size {size}: {clique_sizes[size]} clique(s)\")"
      ]
    },
    {
      "cell_type": "markdown",
      "id": "79ef5041",
      "metadata": {
        "id": "79ef5041"
      },
      "source": [
        "Now let's examine k-cores. Recall that k-cores are less restrictive than cliques. A k-core consists of nodes where each node in the k-core is connected to at least k other nodes in the k-core."
      ]
    },
    {
      "cell_type": "code",
      "execution_count": null,
      "id": "cell-kcores-example",
      "metadata": {
        "id": "cell-kcores-example"
      },
      "outputs": [],
      "source": [
        "# Example: k-core decomposition\n",
        "print(\"=== K-CORE DECOMPOSITION ===\\n\")\n",
        "\n",
        "# Use a larger graph for k-core analysis\n",
        "G_core = nx.karate_club_graph()\n",
        "\n",
        "# Calculate core numbers for all nodes\n",
        "core_numbers = nx.core_number(G_core)\n",
        "print(\"Core numbers for each node (top 10):\")\n",
        "sorted_cores = sorted(core_numbers.items(), key=lambda x: x[1], reverse=True)\n",
        "for node, core_num in sorted_cores[:10]:\n",
        "    print(f\"  Node {node}: core number = {core_num}\")\n",
        "\n",
        "# Find the maximum core number\n",
        "max_core = max(core_numbers.values())\n",
        "print(f\"\\nMaximum core number: {max_core}\")\n",
        "\n",
        "# Extract k-cores for different values of k\n",
        "print(f\"\\nk-core analysis:\")\n",
        "for k in range(1, max_core + 1):\n",
        "    k_core_subgraph = nx.k_core(G_core, k=k)\n",
        "    print(f\"  {k}-core: {k_core_subgraph.number_of_nodes()} nodes, {k_core_subgraph.number_of_edges()} edges\")\n",
        "\n",
        "# Get the nodes in the highest k-core (most dense part)\n",
        "highest_k_core = nx.k_core(G_core, k=max_core)\n",
        "print(f\"\\nNodes in the {max_core}-core (most connected): {sorted(highest_k_core.nodes())}\")"
      ]
    },
    {
      "cell_type": "code",
      "execution_count": null,
      "id": "cell-kcomponents-example",
      "metadata": {
        "id": "cell-kcomponents-example"
      },
      "outputs": [],
      "source": [
        "# Example: k-components (connectivity analysis)\n",
        "print(\"=== K-COMPONENT ANALYSIS ===\\n\")\n",
        "\n",
        "# Create a graph with different connectivity levels\n",
        "G_components = nx.Graph()\n",
        "# Create two triangles connected by a bridge\n",
        "G_components.add_edges_from([(1, 2), (2, 3), (1, 3)])  # Triangle 1\n",
        "G_components.add_edges_from([(4, 5), (5, 6), (4, 6)])  # Triangle 2\n",
        "G_components.add_edge(3, 4)  # Bridge connecting the triangles\n",
        "\n",
        "# visualize the graph\n",
        "plt.figure(figsize=(8, 6))\n",
        "pos = nx.spring_layout(G_components, seed=42)\n",
        "nx.draw(G_components, pos, with_labels=True, node_color='lightblue', node_size=800, font_size=16, font_weight='bold')\n",
        "plt.title(\"Graph with Different Connectivity Structures\")\n",
        "plt.show()\n",
        "\n",
        "# get the k-component information which is a dictionary with all connectivity levels k in the input Graph as keys\n",
        "# and a list of sets of nodes that form a k-component of level k as values.\n",
        "k_components = nx.k_components(G_components)\n",
        "for k, components in k_components.items():\n",
        "    print(f\"\\n{k}-components:\")\n",
        "    for i, component in enumerate(components):\n",
        "        print(f\"  Component {i+1}: {sorted(component)} (size: {len(component)})\")"
      ]
    },
    {
      "cell_type": "markdown",
      "id": "cell-exercise7-intro",
      "metadata": {
        "id": "cell-exercise7-intro"
      },
      "source": [
        "**Exercise 7.1:** Analyze the group structures in a custom network:"
      ]
    },
    {
      "cell_type": "code",
      "execution_count": null,
      "id": "cell-exercise7",
      "metadata": {
        "id": "cell-exercise7"
      },
      "outputs": [],
      "source": [
        "# Exercise 7.1: Analyze group structures\n",
        "# Create a friendship network with the following connections:\n",
        "friendship_edges = [\n",
        "    (1, 2), (1, 3), (2, 3),           # Friend group 1: triangles\n",
        "    (4, 5), (4, 6), (5, 6),           # Friend group 2: triangle\n",
        "    (7, 8), (8, 9), (7, 9),           # Friend group 3: triangle\n",
        "    (3, 4),                           # Bridge between group 1 and 2\n",
        "    (6, 7), (6, 8),                   # Stronger connection to group 3\n",
        "    (10, 11), (11, 12), (10, 12),     # Isolated triangle\n",
        "    (9, 10)                           # Bridge to isolated triangle\n",
        "]\n",
        "\n",
        "G_friendship = nx.Graph()\n",
        "G_friendship.add_edges_from(friendship_edges)\n",
        "\n",
        "print(\"=== EXERCISE 7.1: FRIENDSHIP NETWORK ANALYSIS ===\\n\")\n",
        "print(f\"Network has {G_friendship.number_of_nodes()} nodes and {G_friendship.number_of_edges()} edges\")\n",
        "\n",
        "# 1. Find all maximal cliques\n",
        "cliques_list = ___  # Your code here\n",
        "print(f\"\\nMaximal cliques found: {len(cliques_list)}\")\n",
        "for i, clique in enumerate(cliques_list):\n",
        "    print(f\"  Clique {i+1}: {sorted(clique)}\")\n",
        "\n",
        "# 2. Find the 2-core (nodes with at least 2 connections within the core)\n",
        "two_core = ___  # Your code here\n",
        "print(f\"\\n2-core nodes: {sorted(two_core.nodes())}\")\n",
        "print(f\"2-core has {two_core.number_of_nodes()} nodes and {two_core.number_of_edges()} edges\")\n",
        "\n",
        "# 3. Find 2-components (groups that remain connected after removing any single node)\n",
        "try:\n",
        "    two_components = ___  # Your code here\n",
        "    print(f\"\\n2-components found: {len(two_components)}\")\n",
        "    for i, comp in enumerate(two_components):\n",
        "        print(f\"  2-component {i+1}: {sorted(comp)}\")\n",
        "except:\n",
        "    print(\"\\n2-components: Could not be computed (graph may not be 2-connected)\")\n",
        "\n",
        "# 4. Calculate core numbers for all nodes\n",
        "core_nums = ___  # Your code here\n",
        "print(f\"\\nCore numbers:\")\n",
        "for node in sorted(G_friendship.nodes()):\n",
        "    print(f\"  Node {node}: core number = {core_nums[node]}\")\n",
        "\n",
        "print(f\"\\nHighest core number: {max(core_nums.values())}\")\n",
        "\n",
        "# Bonus: Which nodes are bridges (removing them increases number of components)?\n",
        "original_components = len(list(nx.connected_components(G_friendship)))\n",
        "print(f\"\\nBridge analysis (original components: {original_components}):\")\n",
        "for node in G_friendship.nodes():\n",
        "    temp_graph = G_friendship.copy()\n",
        "    temp_graph.remove_node(node)\n",
        "    new_components = len(list(nx.connected_components(temp_graph)))\n",
        "    if new_components > original_components:\n",
        "        print(f\"  Node {node} is a bridge (creates {new_components} components when removed)\")"
      ]
    },
    {
      "cell_type": "code",
      "execution_count": null,
      "id": "cell-exercise7-validation",
      "metadata": {
        "id": "cell-exercise7-validation"
      },
      "outputs": [],
      "source": [
        "# Validation for Exercise 7.1\n",
        "try:\n",
        "    expected_cliques = 7  # Four triangular cliques\n",
        "    expected_max_core = 2  # Maximum core number should be 2\n",
        "\n",
        "    if (len(cliques_list) == expected_cliques and\n",
        "        max(core_nums.values()) == expected_max_core and\n",
        "        two_core.number_of_nodes() > 0):\n",
        "        print(\"Exercise 7.1 correct!\")\n",
        "\n",
        "        # Visualize the friendship network\n",
        "        plt.figure(figsize=(12, 8))\n",
        "        pos = nx.spring_layout(G_friendship, seed=42)\n",
        "\n",
        "        # Color nodes by their core number\n",
        "        node_colors = [plt.cm.viridis(core_nums[node] / max(core_nums.values()))\n",
        "                       for node in G_friendship.nodes()]\n",
        "\n",
        "        nx.draw(G_friendship, pos, with_labels=True, node_color=node_colors,\n",
        "                node_size=600, font_size=12, font_weight='bold',\n",
        "                cmap=plt.cm.viridis, edge_color='gray')\n",
        "\n",
        "        print(\"Network Analysis Summary:\")\n",
        "        print(f\"- Found {len(cliques_list)} maximal cliques (friend groups)\")\n",
        "        print(f\"- 2-core contains {two_core.number_of_nodes()} nodes (people with ≥2 mutual friends)\")\n",
        "        print(f\"- Maximum core number is {max(core_nums.values())} (most densely connected region)\")\n",
        "        print(\"- Bridge nodes connect different friend groups and are critical for network connectivity\")\n",
        "\n",
        "    else:\n",
        "        print(\"Exercise 7.1 incorrect. Check your group analysis.\")\n",
        "        print(f\"Expected {expected_cliques} cliques, found {len(cliques_list)}\")\n",
        "        print(f\"Expected max core {expected_max_core}, found {max(core_nums.values())}\")\n",
        "\n",
        "except NameError:\n",
        "    print(\"Please complete Exercise 7.1 first.\")"
      ]
    }
  ],
  "metadata": {
    "colab": {
      "provenance": []
    },
    "kernelspec": {
      "display_name": "ml4g",
      "language": "python",
      "name": "python3"
    },
    "language_info": {
      "codemirror_mode": {
        "name": "ipython",
        "version": 3
      },
      "file_extension": ".py",
      "mimetype": "text/x-python",
      "name": "python",
      "nbconvert_exporter": "python",
      "pygments_lexer": "ipython3",
      "version": "3.12.11"
    }
  },
  "nbformat": 4,
  "nbformat_minor": 5
}
